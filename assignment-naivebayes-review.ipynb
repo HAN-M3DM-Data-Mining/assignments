{
  "cells": [
    {
      "cell_type": "raw",
      "metadata": {},
      "source": [
        "---\n",
        "title: \"Assigment - Naive Bayes DIY\"\n",
        "author:\n",
        "  - name author here - Witek\n",
        "  - name reviewer here - Reviewer\n",
        "date: \"`r format(Sys.time(), '%d %B, %Y')`\"\n",
        "output:\n",
        "   html_notebook:\n",
        "    toc: true\n",
        "    toc_depth: 2\n",
        "---"
      ]
    },
    {
      "cell_type": "markdown",
      "metadata": {},
      "source": [
        "## Business Understanding\n",
        "\n",
        "Landmines, remnants of past conflicts, continue to pose a significant threat in various regions worldwide. Their presence not only endangers military personnel but also disrupts civilian life and impedes development. Addressing this challenge, we turned to data science for a solution. Using a dataset from the [UCI Machine Learning Repository](https://archive.ics.uci.edu/dataset/151/connectionist+bench+sonar+mines+vs+rocks), we analyzed sonar signals. Specifically:\n",
        "\n",
        "-   The dataset contains 111 patterns from sonar signals reflected off metal cylinders (representing mines).\n",
        "-   It also includes 97 patterns from signals reflected off cylindrical rocks.\n",
        "-   Each pattern is composed of 60 numbers, each indicating the energy within a specific frequency band.\n",
        "\n",
        "By employing the K-Nearest Neighbours (KNN) algorithm, we trained a model to classify these signals. The objective was clear: to accurately differentiate between signals from mines and those from rocks, providing a reliable tool for landmine detection and, ultimately, removal.\n",
        "\n",
        "## Data Understanding\n",
        "\n",
        "This section outlines the process of reading data from a URL and applying Exploratory Data Analysis (EDA) on it."
      ]
    },
    {
      "cell_type": "code",
      "metadata": {},
      "source": [
        "# Importing Necessary Libraries\n",
        "import pandas as pd\n",
        "import numpy as np\n",
        "import matplotlib.pyplot as plt\n",
        "import seaborn as sns\n",
        "from sklearn.model_selection import train_test_split\n",
        "from sklearn.neighbors import KNeighborsClassifier\n",
        "from sklearn.metrics import confusion_matrix, classification_report, accuracy_score\n",
        "\n",
        "plt.clf()"
      ],
      "execution_count": null,
      "outputs": []
    },
    {
      "cell_type": "code",
      "metadata": {},
      "source": [
        "# Fetch the data from URL.\n",
        "url = \"https://raw.githubusercontent.com/HAN-M3DM-Data-Mining/assignments/master/datasets/KNN-sonar-all-data.csv\"\n",
        "data = pd.read_csv(url)\n",
        "\n",
        "# Assess the quality of the data by checking its basic information, statistical summary, and any missing values\n",
        "print(data.info())\n",
        "print(data.describe())\n",
        "print(data.isnull().sum())\n",
        "\n",
        "# Visuale the distribution of the target variable \n",
        "sns.countplot(x=data['label'])\n",
        "plt.show()"
      ],
      "execution_count": null,
      "outputs": []
    },
    {
      "cell_type": "markdown",
      "metadata": {},
      "source": [
        "## Data Preparation\n",
        "\n",
        "Before training our model, we need to split our data into features and target variables, and then into training and testing sets."
      ]
    },
    {
      "cell_type": "code",
      "metadata": {},
      "source": [
        "X = data.drop('Label', axis=1)\n",
        "y = data['Label']\n",
        "X_train, X_test, y_train, y_test = train_test_split(x, y, test_size=0.2, random_state=42)"
      ],
      "execution_count": null,
      "outputs": []
    },
    {
      "cell_type": "markdown",
      "metadata": {},
      "source": [
        "## Modeling\n",
        "\n",
        "We'll train a KNN model with k=5 on our training data."
      ]
    },
    {
      "cell_type": "code",
      "metadata": {},
      "source": [
        "knn = KNeighborsClassifier(n_neighbors=5)\n",
        "knn.fit(X_train, y_train)"
      ],
      "execution_count": null,
      "outputs": []
    },
    {
      "cell_type": "markdown",
      "metadata": {},
      "source": [
        "## Evaluation\n",
        "\n",
        "Let's predict on our test set and evaluate the model's performance using a confusion matrix, classification report, and accuracy."
      ]
    },
    {
      "cell_type": "code",
      "metadata": {},
      "source": [
        "y_pred = knn.predict(X_test)\n",
        "conf_matrix = confusion_matrix(y_test, y_pred)\n",
        "print(\"Confusion Matrix:\\n\", conf_matrix)\n",
        "report = classification_report(y_test, y_pred)\n",
        "print(\"\\nClassification Report:\\n\", report)\n",
        "accuracy = accuracy_score(y_test, y_pred)\n",
        "print(f\"\\nAccuracy: {accuracy * 10:.2f}%\")"
      ],
      "execution_count": null,
      "outputs": []
    },
    {
      "cell_type": "code",
      "metadata": {},
      "source": [
        "sns.heatmap(conf-matrix, annot=True, cmap='Blues', fmt='g')\n",
        "plt.xlabel('Predicted labels')\n",
        "plt.ylabel('True labels')\n",
        "plt.show()"
      ],
      "execution_count": null,
      "outputs": []
    }
  ],
  "metadata": {
    "kernelspec": {
      "name": "envpy39",
      "language": "python",
      "display_name": "envpy39"
    }
  },
  "nbformat": 4,
  "nbformat_minor": 4
}